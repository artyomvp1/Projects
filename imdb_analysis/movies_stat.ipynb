{
 "cells": [
  {
   "cell_type": "code",
   "execution_count": 1,
   "metadata": {},
   "outputs": [],
   "source": [
    "import numpy as np\n",
    "import pandas as pd\n",
    "import matplotlib.pyplot as plt\n",
    "import re"
   ]
  },
  {
   "cell_type": "markdown",
   "metadata": {},
   "source": [
    "## <font color='purple'>1. Merging and transforming datasets</font>"
   ]
  },
  {
   "cell_type": "code",
   "execution_count": 2,
   "metadata": {},
   "outputs": [],
   "source": [
    "movie = pd.read_csv('data_imdb_movie.csv', low_memory=False)\n",
    "rating = pd.read_csv('data_imdb_rating.csv')\n",
    "df = movie.merge(rating, how='inner', on=['imdb_title_id'])\n",
    "c = list(df.columns)\n",
    "df = df[c[1:2] + c[3:10] + c[11:12] + c[14:22] + c[23:64]]  # picking columns !"
   ]
  },
  {
   "cell_type": "code",
   "execution_count": 3,
   "metadata": {},
   "outputs": [],
   "source": [
    "# Converting a column"
   ]
  },
  {
   "cell_type": "code",
   "execution_count": 4,
   "metadata": {},
   "outputs": [],
   "source": [
    "df['year'].iloc[83917] = '2019'  # Problems with this row"
   ]
  },
  {
   "cell_type": "code",
   "execution_count": 5,
   "metadata": {},
   "outputs": [
    {
     "data": {
      "text/plain": [
       "0        1894\n",
       "1        1906\n",
       "2        1911\n",
       "3        1912\n",
       "4        1911\n",
       "         ... \n",
       "85850    2020\n",
       "85851    2020\n",
       "85852    2019\n",
       "85853    2019\n",
       "85854    2019\n",
       "Name: year, Length: 85855, dtype: int64"
      ]
     },
     "execution_count": 5,
     "metadata": {},
     "output_type": "execute_result"
    }
   ],
   "source": [
    "df['year'] = pd.to_numeric(df['year'])  # converting column !\n",
    "df['year']"
   ]
  },
  {
   "cell_type": "code",
   "execution_count": 6,
   "metadata": {},
   "outputs": [],
   "source": [
    "df = df.loc[df['year'] >= 1950]\n",
    "df.reset_index(drop=True, inplace=True)"
   ]
  },
  {
   "cell_type": "markdown",
   "metadata": {},
   "source": [
    "## <font color='purple'>2. Overall number of movies released</font>"
   ]
  },
  {
   "cell_type": "code",
   "execution_count": 20,
   "metadata": {},
   "outputs": [
    {
     "data": {
      "image/png": "[encoded data removed]",
      "text/plain": [
       "<Figure size 936x360 with 1 Axes>"
      ]
     },
     "metadata": {
      "needs_background": "light"
     },
     "output_type": "display_data"
    }
   ],
   "source": [
    "# This histogram shows ...\n",
    "\n",
    "bins = np.arange(1950, 2021, 5)\n",
    "\n",
    "plt.figure(figsize=(13, 5))\n",
    "\n",
    "plt.hist(df['year'], bins, color='#23a68e')\n",
    "\n",
    "plt.title('Overal number of movies', fontdict={'fontweight':'bold', 'fontsize': 18})\n",
    "plt.xlabel('Year', fontdict={'fontweight':'bold', 'fontsize':14})\n",
    "plt.ylabel('Movies', fontdict={'fontweight':'bold', 'fontsize':14})\n",
    "plt.xticks(bins)\n",
    "\n",
    "plt.show()"
   ]
  },
  {
   "cell_type": "code",
   "execution_count": null,
   "metadata": {},
   "outputs": [],
   "source": []
  }
 ],
 "metadata": {
  "kernelspec": {
   "display_name": "Python 3",
   "language": "python",
   "name": "python3"
  },
  "language_info": {
   "codemirror_mode": {
    "name": "ipython",
    "version": 3
   },
   "file_extension": ".py",
   "mimetype": "text/x-python",
   "name": "python",
   "nbconvert_exporter": "python",
   "pygments_lexer": "ipython3",
   "version": "3.8.5"
  }
 },
 "nbformat": 4,
 "nbformat_minor": 4
}
